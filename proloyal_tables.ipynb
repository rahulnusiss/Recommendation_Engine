{
 "cells": [
  {
   "cell_type": "code",
   "execution_count": 10,
   "metadata": {},
   "outputs": [
    {
     "name": "stdout",
     "output_type": "stream",
     "text": [
      "Connecting to database\n",
      "\t->host='mentorica.cejv1pgu6hhb.us-east-1.rds.amazonaws.com' dbname='MentoricaProLoyal' user='rahul' password='postgresql'\n"
     ]
    }
   ],
   "source": [
    "import psycopg2\n",
    "# Connection string\n",
    "conn_string = \"host='mentorica.cejv1pgu6hhb.us-east-1.rds.amazonaws.com' dbname='MentoricaProLoyal' user='rahul' password='postgresql'\"\n",
    "# print the connection string we will use to connect\n",
    "print (\"Connecting to database\\n\t->%s\" % (conn_string))"
   ]
  },
  {
   "cell_type": "code",
   "execution_count": 11,
   "metadata": {
    "collapsed": true
   },
   "outputs": [],
   "source": [
    "# get a connection, if a connect cannot be made an exception will be raised here\n",
    "conn = psycopg2.connect(conn_string)"
   ]
  },
  {
   "cell_type": "code",
   "execution_count": 12,
   "metadata": {},
   "outputs": [
    {
     "name": "stdout",
     "output_type": "stream",
     "text": [
      "Connected!\n",
      "\n"
     ]
    }
   ],
   "source": [
    "# conn.cursor will return a cursor object, you can use this cursor to perform queries\n",
    "cursor = conn.cursor()\n",
    "print (\"Connected!\\n\")\n",
    "# Postgres does not have autocommit"
   ]
  },
  {
   "cell_type": "code",
   "execution_count": 13,
   "metadata": {},
   "outputs": [
    {
     "name": "stdout",
     "output_type": "stream",
     "text": [
      "I can't transact our database!\n"
     ]
    }
   ],
   "source": [
    "# execute our Query\n",
    "try:\n",
    "    cursor.execute(\"SELECT pos_product FROM product\")\n",
    "except:\n",
    "    print (\"I can't transact our database!\")\n",
    "    "
   ]
  },
  {
   "cell_type": "code",
   "execution_count": 14,
   "metadata": {
    "collapsed": true
   },
   "outputs": [],
   "source": [
    "# Auto commit On\n",
    "conn.set_isolation_level(0)"
   ]
  },
  {
   "cell_type": "code",
   "execution_count": null,
   "metadata": {
    "scrolled": true
   },
   "outputs": [],
   "source": [
    "# Create Schema\n",
    "# https://www.postgresql.org/docs/9.3/static/sql-createschema.html\n",
    "query_schema = \"CREATE SCHEMA proloyal\"\n",
    "cursor.execute(query_schema);"
   ]
  },
  {
   "cell_type": "code",
   "execution_count": 16,
   "metadata": {
    "collapsed": true
   },
   "outputs": [],
   "source": [
    "# Create tables: https://www.postgresql.org/docs/9.1/static/sql-createtable.html\n",
    "# Create table: pos_product\n",
    "# (id, version, category, company_id, create_by, created_at, datasource, default_barcode, default_price, default_sku, \n",
    "# description, gender, inventory, is_active, pos_id, product_type, published_at, published_scope, subcategory, \n",
    "# tags, title, update_by, updated_at, vendor)\n",
    "print (\"Creating table pos_product \")\n",
    "query_table_product = \"\"\"CREATE TABLE proloyal.pos_product (\n",
    "                            id             integer CONSTRAINT firstkey PRIMARY KEY,\n",
    "                            version         real,\n",
    "                            category            text,\n",
    "                            company_id          integer,\n",
    "                            create_by              text,\n",
    "                            created_at       date,\n",
    "                            datasource             text,\n",
    "                            default_barcode                  text,\n",
    "                            default_price           real,\n",
    "                            default_sku          integer,\n",
    "                            description          text,\n",
    "                            gender               text,\n",
    "                            inventory            integer,\n",
    "                            is_active            boolean,\n",
    "                            pos_id     integer,\n",
    "                            product_type           text,\n",
    "                            published_at           date,\n",
    "                            published_scope  text,\n",
    "                            subcategory                text,\n",
    "                            tags            text,\n",
    "                            title              text,\n",
    "                            update_by          text,\n",
    "                            updated_at         date,\n",
    "                            vendor             text);\"\"\"\n",
    "try:\n",
    "    cursor.execute(query_table_product);\n",
    "    print (\"Table Created!\")\n",
    "except:\n",
    "    print (\"Unable to create table: pos_product!\")\n",
    "        "
   ]
  },
  {
   "cell_type": "code",
   "execution_count": 28,
   "metadata": {},
   "outputs": [
    {
     "name": "stdout",
     "output_type": "stream",
     "text": [
      "Creating table pos_inventory \n",
      "Table Created!\n"
     ]
    }
   ],
   "source": [
    "# Create table: pos_inventory\n",
    "#(id, version, create_by, created_at, incoming_quantity, pos_product_variant_id, price, quantity, \n",
    "#store_id, update_by, updated_at)\n",
    "\n",
    "print (\"Creating table pos_inventory \")\n",
    "query_table_inventory = \"\"\"CREATE TABLE proloyal.pos_inventory (\n",
    "                            id             integer PRIMARY KEY,\n",
    "                            version         real,\n",
    "                            create_by      text,\n",
    "                            created_at      date,\n",
    "                            incoming_quantity   integer,\n",
    "                            pos_product_variant_id    integer,\n",
    "                            price                     real,\n",
    "                            quantity                  integer,\n",
    "                            store_id                integer,\n",
    "                            update_by               text,\n",
    "                            updated_at              date);\"\"\"\n",
    "\n",
    "try:\n",
    "    cursor.execute(query_table_inventory);\n",
    "    print (\"Table Created!\")\n",
    "except:\n",
    "    print (\"Unable to create table: pos_inventory!\")"
   ]
  },
  {
   "cell_type": "code",
   "execution_count": 29,
   "metadata": {},
   "outputs": [
    {
     "name": "stdout",
     "output_type": "stream",
     "text": [
      "Creating table pos_option \n",
      "Table Created!\n"
     ]
    }
   ],
   "source": [
    "# Create table: pos_option \n",
    "# (id, version, name, pos_id, pos_product_id, \"position\")\n",
    "print (\"Creating table pos_option \")\n",
    "query_table_option = \"\"\"CREATE TABLE proloyal.pos_option (\n",
    "                            id             integer  PRIMARY KEY,\n",
    "                            version         real,\n",
    "                            name            text,\n",
    "                            pos_id          integer,\n",
    "                            pos_product_id  integer,\n",
    "                            position        text);\"\"\"\n",
    "\n",
    "try:\n",
    "    cursor.execute(query_table_option);\n",
    "    print (\"Table Created!\")\n",
    "except:\n",
    "    print (\"Unable to create table: pos_option!\")\n"
   ]
  },
  {
   "cell_type": "code",
   "execution_count": null,
   "metadata": {},
   "outputs": [],
   "source": [
    "# Create table: pos_option_values\n",
    "# (pos_option_id, values_string, values_idx)\n",
    "print (\"Creating table pos_option_values \")\n",
    "query_table_option_values = \"\"\"CREATE TABLE proloyal.pos_option_values (\n",
    "                            pos_option_id             integer ,\n",
    "                            values_string         text,\n",
    "                            values_idx            integer,\n",
    "                            pos_id          integer );\"\"\"\n",
    "\n",
    "try:\n",
    "    cursor.execute(query_table_option_values);\n",
    "    print (\"Table Created!\")\n",
    "except:\n",
    "    print (\"Unable to create table: pos_option_values!\")"
   ]
  },
  {
   "cell_type": "code",
   "execution_count": 31,
   "metadata": {},
   "outputs": [
    {
     "name": "stdout",
     "output_type": "stream",
     "text": [
      "Creating table pos_product_image \n",
      "Table Created!\n"
     ]
    }
   ],
   "source": [
    "# Create table: pos_product_image\n",
    "# (id, version, create_by, created_at, pos_id, pos_product_id, \"position\", src, update_by, updated_at)\n",
    "print (\"Creating table pos_product_image \")\n",
    "query_table_product_image = \"\"\"CREATE TABLE proloyal.pos_product_image (\n",
    "                            id             integer  PRIMARY KEY,\n",
    "                            version         real,\n",
    "                            create_by            integer,\n",
    "                            created_at          date,\n",
    "                            pos_id              integer,\n",
    "                            pos_product_id       integer,\n",
    "                            position             text,\n",
    "                            src                  text,\n",
    "                            update_by           text,\n",
    "                            updated_at          date);\"\"\"\n",
    "\n",
    "try:\n",
    "    cursor.execute(query_table_product_image);\n",
    "    print (\"Table Created!\")\n",
    "except:\n",
    "    print (\"Unable to create table: pos_product_image!\")"
   ]
  },
  {
   "cell_type": "code",
   "execution_count": 32,
   "metadata": {},
   "outputs": [
    {
     "name": "stdout",
     "output_type": "stream",
     "text": [
      "Creating table pos_product_variant \n",
      "Table Created!\n"
     ]
    }
   ],
   "source": [
    "# Create table: pos_product_variant \n",
    "# (id, version, compare_at_price, create_by, created_at, default_image, fulfillment_service, inventory_management, \n",
    "# inventory_policy, is_active, option1, option2, option3, pos_id, pos_product_id, \"position\", price, \n",
    "# requires_shipping, sku, taxable, title, update_by, updated_at, weight, weight_unit)\n",
    "print (\"Creating table pos_product_variant \")\n",
    "query_table_product_variant = \"\"\"CREATE TABLE proloyal.pos_product_variant (\n",
    "                            id             integer PRIMARY KEY,\n",
    "                            version         real,\n",
    "                            compare_at_price            real,\n",
    "                            create_by          text,\n",
    "                            created_at              date,\n",
    "                            default_image       text,\n",
    "                            fulfillment_service             text,\n",
    "                            inventory_management                  text,\n",
    "                            inventory_policy           text,\n",
    "                            is_active          boolean,\n",
    "                            option1            integer,\n",
    "                            option2            integer,\n",
    "                            option3            integer,\n",
    "                            pos_id             integer,\n",
    "                            pos_product_id     integer,\n",
    "                            position           text,\n",
    "                            price              real,\n",
    "                            requires_shipping  boolean,\n",
    "                            sku                text,\n",
    "                            taxable            boolean,\n",
    "                            title              text,\n",
    "                            update_by          text,\n",
    "                            updated_at         date,\n",
    "                            weight             real,\n",
    "                            weight_unit        text);\"\"\"\n",
    "\n",
    "try:\n",
    "    cursor.execute(query_table_product_variant);\n",
    "    print (\"Table Created!\")\n",
    "except:\n",
    "    print (\"Unable to create table: pos_product_variant!\")"
   ]
  },
  {
   "cell_type": "code",
   "execution_count": null,
   "metadata": {
    "collapsed": true
   },
   "outputs": [],
   "source": []
  },
  {
   "cell_type": "code",
   "execution_count": null,
   "metadata": {
    "collapsed": true
   },
   "outputs": [],
   "source": []
  }
 ],
 "metadata": {
  "kernelspec": {
   "display_name": "Python 3",
   "language": "python",
   "name": "python3"
  },
  "language_info": {
   "codemirror_mode": {
    "name": "ipython",
    "version": 3
   },
   "file_extension": ".py",
   "mimetype": "text/x-python",
   "name": "python",
   "nbconvert_exporter": "python",
   "pygments_lexer": "ipython3",
   "version": "3.6.1"
  }
 },
 "nbformat": 4,
 "nbformat_minor": 2
}
